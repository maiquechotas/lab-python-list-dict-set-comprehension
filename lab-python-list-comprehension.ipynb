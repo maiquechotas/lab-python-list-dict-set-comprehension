{
 "cells": [
  {
   "cell_type": "markdown",
   "id": "25d7736c-ba17-4aff-b6bb-66eba20fbf4e",
   "metadata": {},
   "source": [
    "# Lab | List, Dict and Set Comprehension"
   ]
  },
  {
   "cell_type": "markdown",
   "id": "7dd3cbde-675a-4b81-92c3-f728846dbe06",
   "metadata": {},
   "source": [
    "## Exercise: Managing Customer Orders Optimized with Comprehension"
   ]
  },
  {
   "cell_type": "markdown",
   "id": "5d500160-2fb7-4777-b5e4-09d45ebaf328",
   "metadata": {},
   "source": [
    "In the previous exercise, you developed a program to manage customer orders and inventory. Now, let's take it a step further and incorporate comprehension into your code.\n",
    "\n",
    "Follow the steps below to complete the exercise:\n",
    "\n",
    "1. Review your code from the previous exercise and identify areas where you can apply comprehension to simplify and streamline your code. \n",
    "\n",
    "    - *Hint: Apply it to initialize inventory, updating the inventory and printing the updated inventory.*\n",
    "    \n",
    "    - For example, in initializing the inventory, we could have:\n",
    "    \n",
    "        ```python\n",
    "        def initialize_inventory(products):\n",
    "            inventory = {product: int(input(f\"Enter the quantity of {product}s available: \")) for product in products}\n",
    "            return inventory\n",
    "\n",
    "        ```\n",
    "<br>\n",
    "    \n",
    "    \n",
    "2. Modify the function get_customer_orders so it prompts the user to enter the number of customer orders and gathers the product names using a loop and user input. Use comprehension.\n",
    "\n",
    "3. Add a new function to calculate the total price of the customer order. For each product in customer_orders, prompt the user to enter the price of that product. Use comprehension to calculate the total price. Note: assume that the user can only have 1 unit of each product.\n",
    "\n",
    "4. Modify the update_inventory function to remove the product from the inventory if its quantity becomes zero after fulfilling the customer orders. Use comprehension to filter out the products with a quantity of zero from the inventory.\n",
    "\n",
    "5. Print the total price of the customer order.\n",
    "\n",
    "Your code should produce output similar to the following:\n",
    "\n",
    "```python\n",
    "Enter the quantity of t-shirts available:  5\n",
    "Enter the quantity of mugs available:  4\n",
    "Enter the quantity of hats available:  3\n",
    "Enter the quantity of books available:  2\n",
    "Enter the quantity of keychains available:  1\n",
    "Enter the number of customer orders:  2\n",
    "Enter the name of a product that a customer wants to order:  hat\n",
    "Enter the name of a product that a customer wants to order:  keychain\n",
    "\n",
    "Order Statistics:\n",
    "Total Products Ordered: 2\n",
    "Percentage of Unique Products Ordered: 40.0\n",
    "\n",
    "Updated Inventory:\n",
    "t-shirt: 5\n",
    "mug: 4\n",
    "hat: 2\n",
    "book: 2\n",
    "Enter the price of keychain:  5\n",
    "Enter the price of hat:  10\n",
    "Total Price: 15.0\n",
    "\n",
    "```\n"
   ]
  },
  {
   "cell_type": "code",
   "execution_count": 3,
   "id": "bc81a0e6",
   "metadata": {},
   "outputs": [
    {
     "name": "stdout",
     "output_type": "stream",
     "text": [
      "{'t-shirt': 5, 'mug': 6, 'hat': 7, 'book': 8, 'keychain': 9}\n"
     ]
    }
   ],
   "source": [
    "#1. Define a function named `initialize_inventory` that takes `products` as a parameter. \n",
    "# Inside the function, implement the code for initializing the inventory dictionary using a loop and user input.\n",
    "\n",
    "#we define the list of products\n",
    "products = [\"t-shirt\", \"mug\", \"hat\", \"book\", \"keychain\"]\n",
    "\n",
    "#we create the function, returning the inventory\n",
    "def initialize_inventory (product_list):\n",
    "\n",
    "  #  inventory_function={}\n",
    "  #  for product in product_list: #we use the for loop to fill the keys with product and the values with the input\n",
    "  #      inventory[product] = int(input(f\"¿How many {product} are there?\"))\n",
    "\n",
    "  #new solutions, using comprehension\n",
    "    inventory={product: int(input(f\"Enter the quantity of {product}s available: \")) for product in product_list}\n",
    "\n",
    "    #print (inventory)\n",
    "    return (inventory)\n",
    "\n",
    "#we pass the inventory from the function to our inventory (dictionary)    \n",
    "inventory=initialize_inventory(products)\n",
    "\n",
    "print(inventory)"
   ]
  },
  {
   "cell_type": "code",
   "execution_count": 4,
   "id": "92ac2c9f",
   "metadata": {},
   "outputs": [],
   "source": [
    "#2. Modify the function get_customer_orders so it prompts the user to enter the number of customer orders and gathers the product names using a loop and user input. \n",
    "# Use comprehension.\n",
    "\n",
    "\"\"\"\n",
    "Old solution\n",
    "2. Define a function named `get_customer_orders` that takes no parameters. \n",
    "Inside the function, implement the code for prompting the user to enter the product names using a loop. \n",
    "The function should return the `customer_orders` set.\n",
    "\n",
    "def get_customer_orders():\n",
    "\n",
    "    yes_no=True\n",
    "    customer_orders_function=set()\n",
    "\n",
    "    while yes_no==True: # Continue looping as long as yes_no is True\n",
    "        answer=input(f\"Do you want to order any product? Introduce Yes or No\").lower()\n",
    "        if answer==\"yes\":\n",
    "            product_name = input(\"Introduce the name of the product that you want to order: \").lower()\n",
    "            if product_name in products:\n",
    "                customer_orders_function.add(product_name)\n",
    "            else:\n",
    "                print(f\"Invalid product. You can choose between {products}\")\n",
    "        elif answer == \"no\":\n",
    "            print(\"Ok, no more products.\")\n",
    "            print (f\"The user wants to order these products: {customer_orders_function}\")  \n",
    "            yes_no=False # Stop the loop when the user says \"no\"\n",
    "            break\n",
    "        else:\n",
    "            print(\"Non valida answer, please introduce yes or not\")\n",
    "            \n",
    "    return (customer_orders_function) # Return the set after exiting the loop\n",
    "\n",
    "\"\"\"\n",
    "\n",
    "# new solution\n",
    "\n",
    "def get_customer_orders():\n",
    "    # Ask the user for the number of orders\n",
    "    num_orders = int(input(\"How many products do you want to order? \"))\n",
    "\n",
    "    # Use a set comprehension to gather product names based on the number of orders specified\n",
    "    customer_orders = {input(f\"Enter the name of product {i + 1}: \").lower() for i in range(num_orders)}\n",
    "\n",
    "    # Notify user of the products ordered\n",
    "    print(f\"The user wants to order these products: {customer_orders}\")\n",
    "\n",
    "    return customer_orders  # Return the set of customer orders\n"
   ]
  },
  {
   "cell_type": "code",
   "execution_count": 26,
   "id": "fced7434",
   "metadata": {},
   "outputs": [],
   "source": [
    "#3. Add a new function to calculate the total price of the customer order. \n",
    "#For each product in customer_orders, prompt the user to enter the price of that product. \n",
    "#Use comprehension to calculate the total price. Note: assume that the user can only have 1 unit of each product.\n",
    "\n",
    "def calculate_total_price(customer_orders):\n",
    "    # Use a comprehension to prompt for prices and calculate total price\n",
    "    print (customer_orders)\n",
    "    total_price = sum([float(input(f\"Enter the price for '{product}': \")) for product in customer_orders])\n",
    "    print(f\"The total price of the customer orders is: {total_price:.2f}\")\n",
    "    return total_price  # Return the total price\n"
   ]
  },
  {
   "cell_type": "code",
   "execution_count": 42,
   "id": "99ff3a44",
   "metadata": {},
   "outputs": [],
   "source": [
    "#4. Modify the update_inventory function to remove the product from the inventory if its quantity becomes zero after fulfilling the customer orders. \n",
    "#Use comprehension to filter out the products with a quantity of zero from the inventory.\n",
    "\n",
    "'''\n",
    "Old solution\n",
    "#4. Define a function named `update_inventory` that takes `customer_orders` and `inventory` as parameters. \n",
    "# Inside the function, implement the code for updating the inventory dictionary based on the customer orders.\n",
    "\n",
    "def update_inventory (customer_orders, inventory):\n",
    "\n",
    "    for product in customer_orders:\n",
    "        inventory[product]-=1\n",
    "\n",
    "'''\n",
    "\n",
    "#new solution\n",
    "\n",
    "def update_inventory (customer_orders, inventory):\n",
    "\n",
    "    for product in customer_orders:\n",
    "        if (inventory[product]<1):\n",
    "            print (f\"El número de {product} ha llegado a 0, ya no está disponible para pedirlo\")\n",
    "        else:\n",
    "            inventory[product]-=1\n",
    "\n",
    "    inventory = {product: qty for product, qty in inventory.items() if qty > 0}\n",
    "\n",
    "    return inventory\n",
    "\n"
   ]
  },
  {
   "cell_type": "code",
   "execution_count": 47,
   "id": "259fc1d9",
   "metadata": {},
   "outputs": [
    {
     "name": "stdout",
     "output_type": "stream",
     "text": [
      "{'mug', 'book'}\n",
      "The total price of the customer orders is: 11.00\n"
     ]
    },
    {
     "data": {
      "text/plain": [
       "11.0"
      ]
     },
     "execution_count": 47,
     "metadata": {},
     "output_type": "execute_result"
    }
   ],
   "source": [
    "#5. Print the total price of the customer order.\n",
    "calculate_total_price(customer_orders)"
   ]
  },
  {
   "cell_type": "code",
   "execution_count": 6,
   "id": "5ba73581",
   "metadata": {},
   "outputs": [],
   "source": [
    "#5. Define a function named `calculate_order_statistics` that takes `customer_orders` and `products` as parameters. \n",
    "#Inside the function, implement the code for calculating the order statistics (total products ordered, and percentage of unique products ordered). \n",
    "#The function should return these values.\n",
    "\n",
    "def calculate_order_statistics (customer_orders, products):\n",
    "    \n",
    "    total_products_ordered=len(customer_orders)\n",
    "    percentage_products_ordered=len(customer_orders)/len(products)*100\n",
    "\n",
    "    return (total_products_ordered, percentage_products_ordered)\n",
    "\n",
    "#order_statistics=(calculate_order_statistics(customer_orders, products))\n",
    "\n",
    "#print(f\"The total of unique products ordered: {order_statistics[0]} \\nThe percentage of unique products ordered: {order_statistics[1]}%\")"
   ]
  },
  {
   "cell_type": "code",
   "execution_count": 7,
   "id": "900fd3e6",
   "metadata": {},
   "outputs": [],
   "source": [
    "#6. Define a function named `print_order_statistics` that takes `order_statistics` as a parameter. \n",
    "# Inside the function, implement the code for printing the order statistics.\n",
    "\n",
    "def print_order_statistics (order_statistics):\n",
    "    print(f\"The total of unique products ordered: {order_statistics[0]} \\nThe percentage of unique products ordered: {order_statistics[1]}%\")\n",
    "\n",
    "#print_order_statistics(order_statistics)"
   ]
  },
  {
   "cell_type": "code",
   "execution_count": 8,
   "id": "caaa7d37",
   "metadata": {},
   "outputs": [],
   "source": [
    "#7. Define a function named `print_updated_inventory` that takes `inventory` as a parameter. \n",
    "# Inside the function, implement the code for printing the updated inventory.\n",
    "\n",
    "def print_updated_inventory (inventory):\n",
    "    print (\"Updated inventory:\")\n",
    "    for product in inventory:\n",
    "        print(f\"{product} {inventory[product]}\")\n",
    "\n",
    "#print_updated_inventory(inventory)"
   ]
  },
  {
   "cell_type": "code",
   "execution_count": 44,
   "id": "519df184",
   "metadata": {},
   "outputs": [
    {
     "name": "stdout",
     "output_type": "stream",
     "text": [
      "The user wants to order these products: {'mug', 'book'}\n",
      "{'mug', 'book'}\n",
      "The total price of the customer orders is: 11.00\n",
      "The total of unique products ordered: 2 \n",
      "The percentage of unique products ordered: 40.0%\n",
      "El número de mug ha llegado a 0, ya no está disponible para pedirlo\n",
      "{'t-shirt': 0, 'mug': 0, 'hat': 0, 'book': 0, 'keychain': 0}\n",
      "El número de book ha llegado a 0, ya no está disponible para pedirlo\n",
      "{'t-shirt': 0, 'mug': 0, 'hat': 0, 'book': 0, 'keychain': 0}\n",
      "Updated inventory:\n"
     ]
    }
   ],
   "source": [
    "#8. Call the functions in the appropriate sequence to execute the program and manage customer orders.\n",
    "\n",
    "inventory=initialize_inventory(products)\n",
    "customer_orders=get_customer_orders()\n",
    "calculate_total_price(customer_orders)\n",
    "order_statistics=(calculate_order_statistics(customer_orders, products))\n",
    "print_order_statistics(order_statistics)\n",
    "inventory=update_inventory(customer_orders, inventory)\n",
    "print_updated_inventory(inventory)"
   ]
  }
 ],
 "metadata": {
  "kernelspec": {
   "display_name": "Python 3 (ipykernel)",
   "language": "python",
   "name": "python3"
  },
  "language_info": {
   "codemirror_mode": {
    "name": "ipython",
    "version": 3
   },
   "file_extension": ".py",
   "mimetype": "text/x-python",
   "name": "python",
   "nbconvert_exporter": "python",
   "pygments_lexer": "ipython3",
   "version": "3.12.6"
  }
 },
 "nbformat": 4,
 "nbformat_minor": 5
}
